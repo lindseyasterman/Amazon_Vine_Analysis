{
  "cells": [
    {
      "cell_type": "code",
      "execution_count": 1,
      "metadata": {
        "colab": {
          "base_uri": "https://localhost:8080/",
          "height": 0
        },
        "id": "V58rxea0HqSa",
        "outputId": "dcf3505c-d994-4d03-f3f4-fdefded6426b"
      },
      "outputs": [
        {
          "name": "stdout",
          "output_type": "stream",
          "text": [
            "\r0% [Working]\r            \rGet:1 https://cloud.r-project.org/bin/linux/ubuntu bionic-cran40/ InRelease [3,626 B]\n",
            "Hit:2 https://developer.download.nvidia.com/compute/cuda/repos/ubuntu1804/x86_64  InRelease\n",
            "Hit:3 http://ppa.launchpad.net/c2d4u.team/c2d4u4.0+/ubuntu bionic InRelease\n",
            "Get:4 http://security.ubuntu.com/ubuntu bionic-security InRelease [88.7 kB]\n",
            "Hit:5 http://archive.ubuntu.com/ubuntu bionic InRelease\n",
            "Ign:6 https://developer.download.nvidia.com/compute/machine-learning/repos/ubuntu1804/x86_64  InRelease\n",
            "Hit:7 https://developer.download.nvidia.com/compute/machine-learning/repos/ubuntu1804/x86_64  Release\n",
            "Get:8 http://archive.ubuntu.com/ubuntu bionic-updates InRelease [88.7 kB]\n",
            "Hit:9 http://ppa.launchpad.net/cran/libgit2/ubuntu bionic InRelease\n",
            "Hit:10 http://ppa.launchpad.net/deadsnakes/ppa/ubuntu bionic InRelease\n",
            "Get:11 http://archive.ubuntu.com/ubuntu bionic-backports InRelease [74.6 kB]\n",
            "Hit:12 http://ppa.launchpad.net/graphics-drivers/ppa/ubuntu bionic InRelease\n",
            "Get:14 http://security.ubuntu.com/ubuntu bionic-security/restricted amd64 Packages [1,013 kB]\n",
            "Get:15 http://archive.ubuntu.com/ubuntu bionic-updates/universe amd64 Packages [2,297 kB]\n",
            "Get:16 http://security.ubuntu.com/ubuntu bionic-security/universe amd64 Packages [1,521 kB]\n",
            "Get:17 http://security.ubuntu.com/ubuntu bionic-security/multiverse amd64 Packages [22.8 kB]\n",
            "Get:18 http://security.ubuntu.com/ubuntu bionic-security/main amd64 Packages [2,866 kB]\n",
            "Get:19 http://archive.ubuntu.com/ubuntu bionic-updates/main amd64 Packages [3,298 kB]\n",
            "Get:20 http://archive.ubuntu.com/ubuntu bionic-updates/restricted amd64 Packages [1,047 kB]\n",
            "Get:21 http://archive.ubuntu.com/ubuntu bionic-updates/multiverse amd64 Packages [29.8 kB]\n",
            "Get:22 http://archive.ubuntu.com/ubuntu bionic-backports/main amd64 Packages [12.2 kB]\n",
            "Fetched 12.4 MB in 6s (2,199 kB/s)\n",
            "Reading package lists... Done\n"
          ]
        }
      ],
      "source": [
        "import os\n",
        "# Find the latest version of spark 3.0 from http://www.apache.org/dist/spark/ and enter as the spark version\n",
        "# For example:\n",
        "# spark_version = 'spark-3.0.3'\n",
        "spark_version = 'spark-3.0.3'\n",
        "os.environ['SPARK_VERSION']=spark_version\n",
        "\n",
        "# Install Spark and Java\n",
        "!apt-get update\n",
        "!apt-get install openjdk-11-jdk-headless -qq > /dev/null\n",
        "!wget -q http://www.apache.org/dist/spark/$SPARK_VERSION/$SPARK_VERSION-bin-hadoop2.7.tgz\n",
        "!tar xf $SPARK_VERSION-bin-hadoop2.7.tgz\n",
        "!pip install -q findspark\n",
        "\n",
        "# Set Environment Variables\n",
        "import os\n",
        "os.environ[\"JAVA_HOME\"] = \"/usr/lib/jvm/java-11-openjdk-amd64\"\n",
        "os.environ[\"SPARK_HOME\"] = f\"/content/{spark_version}-bin-hadoop2.7\"\n",
        "\n",
        "# Start a SparkSession\n",
        "import findspark\n",
        "findspark.init()"
      ]
    },
    {
      "cell_type": "code",
      "execution_count": 2,
      "metadata": {
        "colab": {
          "base_uri": "https://localhost:8080/",
          "height": 0
        },
        "id": "MWY2tMN6XDyn",
        "outputId": "f8368d7c-0362-4987-a051-6deb7b9ec48d"
      },
      "outputs": [
        {
          "name": "stdout",
          "output_type": "stream",
          "text": [
            "--2022-06-26 23:29:16--  https://jdbc.postgresql.org/download/postgresql-42.2.16.jar\n",
            "Resolving jdbc.postgresql.org (jdbc.postgresql.org)... 72.32.157.228, 2001:4800:3e1:1::228\n",
            "Connecting to jdbc.postgresql.org (jdbc.postgresql.org)|72.32.157.228|:443... connected.\n",
            "HTTP request sent, awaiting response... 200 OK\n",
            "Length: 1002883 (979K) [application/java-archive]\n",
            "Saving to: ‘postgresql-42.2.16.jar’\n",
            "\n",
            "postgresql-42.2.16. 100%[===================>] 979.38K  1.22MB/s    in 0.8s    \n",
            "\n",
            "2022-06-26 23:29:18 (1.22 MB/s) - ‘postgresql-42.2.16.jar’ saved [1002883/1002883]\n",
            "\n"
          ]
        }
      ],
      "source": [
        "# Download the Postgres driver that will allow Spark to interact with Postgres.\n",
        "!wget https://jdbc.postgresql.org/download/postgresql-42.2.16.jar"
      ]
    },
    {
      "cell_type": "code",
      "execution_count": 3,
      "metadata": {
        "id": "MyoHUNRyXD4h"
      },
      "outputs": [],
      "source": [
        "from pyspark.sql import SparkSession\n",
        "spark = SparkSession.builder.appName(\"M16-Amazon-Challenge\").config(\"spark.driver.extraClassPath\",\"/content/postgresql-42.2.16.jar\").getOrCreate()"
      ]
    },
    {
      "cell_type": "code",
      "execution_count": 4,
      "metadata": {
        "colab": {
          "base_uri": "https://localhost:8080/",
          "height": 0
        },
        "id": "mJr9VZleXD8r",
        "outputId": "5472cf78-76f8-44f2-914a-b4ca52360202"
      },
      "outputs": [
        {
          "name": "stdout",
          "output_type": "stream",
          "text": [
            "+-----------+-----------+--------------+----------+--------------+--------------------+----------------+-----------+-------------+-----------+----+-----------------+--------------------+--------------------+-----------+\n",
            "|marketplace|customer_id|     review_id|product_id|product_parent|       product_title|product_category|star_rating|helpful_votes|total_votes|vine|verified_purchase|     review_headline|         review_body|review_date|\n",
            "+-----------+-----------+--------------+----------+--------------+--------------------+----------------+-----------+-------------+-----------+----+-----------------+--------------------+--------------------+-----------+\n",
            "|         US|   32158956|R1KKOXHNI8MSXU|B01KL6O72Y|      24485154|Easy Tool Stainle...|         Apparel|          4|            0|          0|   N|                Y|★ THESE REALLY DO...|These Really Do W...| 2013-01-14|\n",
            "|         US|    2714559|R26SP2OPDK4HT7|B01ID3ZS5W|     363128556|V28 Women Cowl Ne...|         Apparel|          5|            1|          2|   N|                Y|Favorite for wint...|I love this dress...| 2014-03-04|\n",
            "|         US|   12608825| RWQEDYAX373I1|B01I497BGY|     811958549|James Fiallo Men'...|         Apparel|          5|            0|          0|   N|                Y|Great Socks for t...|Nice socks, great...| 2015-07-12|\n",
            "|         US|   25482800|R231YI7R4GPF6J|B01HDXFZK6|     692205728|Belfry Gangster 1...|         Apparel|          5|            0|          0|   N|                Y|          Slick hat!|I bought this for...| 2015-06-03|\n",
            "|         US|    9310286|R3KO3W45DD0L1K|B01G6MBEBY|     431150422|JAEDEN Women's Be...|         Apparel|          5|            0|          0|   N|                Y|I would do it again!|Perfect dress and...| 2015-06-12|\n",
            "|         US|   26631939|R1C4QH63NFL5NJ|B01FWRXN0Y|     366144407|Levi's Boys' 514 ...|         Apparel|          5|            0|          0|   N|                Y|          Five Stars|Excellent for my ...| 2014-04-22|\n",
            "|         US|   48785098|R2GP65O1U9N7BP|B01EXNH1HE|     786052021|Minimalist Wallet...|         Apparel|          5|            0|          0|   N|                Y|            Love it!|Raw is the only w...| 2015-07-28|\n",
            "|         US|   39548589|R3O29CT5MQQ3XQ|B01E7OL09O|     108920964|Harriton Men's Ba...|         Apparel|          4|            0|          0|   N|                Y|         Three Stars|        A bit large.| 2015-07-10|\n",
            "|         US|   29355866|R1ZECD2AA8QFF6|B01DXHX81O|     317132458|Jockey Women's Un...|         Apparel|          5|            0|          0|   N|                Y|          Five Stars|          Great fit!| 2015-08-09|\n",
            "|         US|   27477484|R2S79GCF6J89OA|B01DDULIJK|     110598191|Alexander Del Ros...|         Apparel|          3|            0|          0|   N|                Y|    Not my favorite.|Shirt a bit too l...| 2014-05-24|\n",
            "|         US|   17685865|R1CBCUGNP37MPK|B01BOKOL4A|     121408017|Jockey Women's Un...|         Apparel|          5|            0|          0|   N|                Y|The Jockey Women'...|The Jockey Women'...| 2015-06-10|\n",
            "|         US|   19787539|R3NU4WUR5ZNV1V|B01B3Q4Q0O|     134506082|Bali Passion For ...|         Apparel|          5|            0|          0|   N|                Y|          Five Stars|cup size is just ...| 2013-09-06|\n",
            "|         US|   44196725|R32EPCJ3XF8LGE|B01ADDSL9U|     747539045|Lilyette Women's ...|         Apparel|          5|            0|          0|   N|                Y|          Five Stars|          Perfect...| 2014-11-17|\n",
            "|         US|   45510794|R1XIBC6WQBW31M|B019P1X5XI|     696379847|Vanity Fair Women...|         Apparel|          5|            0|          0|   N|                Y|best ever4 for me...|best  ever4 for m...| 2013-05-12|\n",
            "|         US|   42025740|R1P11MVDZ65LMH|B019MDXIXG|     387286513|Warner's Women's ...|         Apparel|          5|            0|          0|   N|                Y|          Five Stars|          Great fit.| 2014-02-14|\n",
            "|         US|   27097189|R1OJA3DJL0VDDK|B019438FEG|     764190574|Columbia Women's ...|         Apparel|          5|            0|          0|   N|                Y|          Five Stars|I have this Colum...| 2014-10-20|\n",
            "|         US|   13808904|R1THWA5YRJLOOF|B0178HGNIA|     816266887|Robes King RK Cla...|         Apparel|          4|            0|          0|   N|                Y|          Four Stars|My husband found ...| 2015-07-05|\n",
            "|         US|   30225894| R738LCNRSJVXP|B016VIU0QI|     323924698|VIV Collection Be...|         Apparel|          5|            6|          7|   N|                Y|   Awesome leggings!|Awesome leggings!...| 2015-07-29|\n",
            "|         US|   45223824|R1N3Z13931J3O9|B016PUU3VO|     893588059|Fruit of the Loom...|         Apparel|          2|            0|          0|   N|                Y|Sizes not correct...|I ordered the sam...| 2015-01-01|\n",
            "|         US|   22300783|R1LBNTP7E8N89Z|B016AQNDM4|     917361125|Jockey Scrubs Wom...|         Apparel|          1|            0|          0|   N|                Y|            One Star| not exact in sizing| 2015-02-12|\n",
            "+-----------+-----------+--------------+----------+--------------+--------------------+----------------+-----------+-------------+-----------+----+-----------------+--------------------+--------------------+-----------+\n",
            "only showing top 20 rows\n",
            "\n"
          ]
        }
      ],
      "source": [
        "from pyspark import SparkFiles\n",
        "url = \"https://s3.amazonaws.com/amazon-reviews-pds/tsv/amazon_reviews_us_Apparel_v1_00.tsv.gz\"\n",
        "spark.sparkContext.addFile(url)\n",
        "df = spark.read.option(\"encoding\", \"UTF-8\").csv(SparkFiles.get(\"\"), sep=\"\\t\", header=True, inferSchema=True)\n",
        "df.show()"
      ]
    },
    {
      "cell_type": "code",
      "execution_count": 5,
      "metadata": {
        "colab": {
          "base_uri": "https://localhost:8080/",
          "height": 0
        },
        "id": "CMbJ-1uQXD_7",
        "outputId": "1c04b92c-9b96-48d1-e5c3-cd311455b897"
      },
      "outputs": [
        {
          "name": "stdout",
          "output_type": "stream",
          "text": [
            "+--------------+-----------+-------------+-----------+----+-----------------+\n",
            "|     review_id|star_rating|helpful_votes|total_votes|vine|verified_purchase|\n",
            "+--------------+-----------+-------------+-----------+----+-----------------+\n",
            "|R1KKOXHNI8MSXU|          4|            0|          0|   N|                Y|\n",
            "|R26SP2OPDK4HT7|          5|            1|          2|   N|                Y|\n",
            "| RWQEDYAX373I1|          5|            0|          0|   N|                Y|\n",
            "|R231YI7R4GPF6J|          5|            0|          0|   N|                Y|\n",
            "|R3KO3W45DD0L1K|          5|            0|          0|   N|                Y|\n",
            "|R1C4QH63NFL5NJ|          5|            0|          0|   N|                Y|\n",
            "|R2GP65O1U9N7BP|          5|            0|          0|   N|                Y|\n",
            "|R3O29CT5MQQ3XQ|          4|            0|          0|   N|                Y|\n",
            "|R1ZECD2AA8QFF6|          5|            0|          0|   N|                Y|\n",
            "|R2S79GCF6J89OA|          3|            0|          0|   N|                Y|\n",
            "|R1CBCUGNP37MPK|          5|            0|          0|   N|                Y|\n",
            "|R3NU4WUR5ZNV1V|          5|            0|          0|   N|                Y|\n",
            "|R32EPCJ3XF8LGE|          5|            0|          0|   N|                Y|\n",
            "|R1XIBC6WQBW31M|          5|            0|          0|   N|                Y|\n",
            "|R1P11MVDZ65LMH|          5|            0|          0|   N|                Y|\n",
            "|R1OJA3DJL0VDDK|          5|            0|          0|   N|                Y|\n",
            "|R1THWA5YRJLOOF|          4|            0|          0|   N|                Y|\n",
            "| R738LCNRSJVXP|          5|            6|          7|   N|                Y|\n",
            "|R1N3Z13931J3O9|          2|            0|          0|   N|                Y|\n",
            "|R1LBNTP7E8N89Z|          1|            0|          0|   N|                Y|\n",
            "+--------------+-----------+-------------+-----------+----+-----------------+\n",
            "only showing top 20 rows\n",
            "\n"
          ]
        }
      ],
      "source": [
        "# Create the vine_table. DataFrame\n",
        "vine_df = df.select([\"review_id\",\"star_rating\",\"helpful_votes\",\"total_votes\",\"vine\",\"verified_purchase\"])\n",
        "vine_df.show() \n"
      ]
    },
    {
      "cell_type": "code",
      "execution_count": 6,
      "metadata": {
        "colab": {
          "base_uri": "https://localhost:8080/",
          "height": 0
        },
        "id": "O8ujz2mkXEEK",
        "outputId": "d4f8d819-a2a1-461e-fad7-b9c122c441f8"
      },
      "outputs": [
        {
          "name": "stdout",
          "output_type": "stream",
          "text": [
            "+--------------+-----------+-------------+-----------+----+-----------------+\n",
            "|     review_id|star_rating|helpful_votes|total_votes|vine|verified_purchase|\n",
            "+--------------+-----------+-------------+-----------+----+-----------------+\n",
            "|R35PT06NWP7LDP|          5|           30|         32|   N|                N|\n",
            "|R2P76PJFUGXBHO|          1|            6|         45|   N|                N|\n",
            "| RQW4AFOG9MR4Z|          5|           51|         52|   N|                N|\n",
            "|R2SMUEBMGLAJQK|          5|           29|         36|   N|                Y|\n",
            "|R1XVIZZALU5P6J|          5|          148|        150|   N|                Y|\n",
            "|R11UFMG8M2488I|          4|           23|         26|   N|                N|\n",
            "|R2OSHKSPXU68W5|          5|          136|        147|   N|                N|\n",
            "|R3M02FSD3BLUPU|          5|           19|         21|   N|                N|\n",
            "|R1P0LEEJHH09L3|          5|           32|         32|   N|                Y|\n",
            "|R1V6UU1EHW3Q12|          5|           57|         62|   N|                Y|\n",
            "|R230W87COFSTCL|          5|           21|         21|   N|                Y|\n",
            "|R156HBTMUSEM88|          5|           48|         49|   N|                Y|\n",
            "|R2X1UHSW9KUBES|          5|           22|         22|   N|                Y|\n",
            "| RO32P11MHPMI3|          5|           24|         24|   N|                Y|\n",
            "|R2WN1VOTG9IK98|          1|            0|         22|   N|                Y|\n",
            "|R1Y8ARYNAB7PC0|          5|           19|         20|   N|                N|\n",
            "|R1QSB09EOREALQ|          4|           29|         32|   N|                Y|\n",
            "|R1BQ8BDCIV9ONZ|          5|           44|         50|   N|                Y|\n",
            "|R18638HIUF6XNR|          3|           22|         23|   N|                N|\n",
            "|  R1EHNRX9BMLK|          5|           19|         20|   N|                Y|\n",
            "+--------------+-----------+-------------+-----------+----+-----------------+\n",
            "only showing top 20 rows\n",
            "\n"
          ]
        }
      ],
      "source": [
        "# Filter the data and create a new DataFrame or table to retrieve all the rows where the total_votes count is equal to or greater than 20 to pick reviews that are more likely to be helpful and to avoid having division by zero errors later on.\n",
        "from pyspark.sql.functions import col\n",
        "total_votes_df = vine_df.filter(col(\"total_votes\") >= 20)\n",
        "total_votes_df.show()"
      ]
    },
    {
      "cell_type": "code",
      "execution_count": 7,
      "metadata": {
        "colab": {
          "base_uri": "https://localhost:8080/",
          "height": 0
        },
        "id": "wn8KDreiXEId",
        "outputId": "d0e67aa1-6b61-4375-9d4d-bacc0edd18a3"
      },
      "outputs": [
        {
          "name": "stdout",
          "output_type": "stream",
          "text": [
            "+--------------+-----------+-------------+-----------+----+-----------------+------------------+\n",
            "|     review_id|star_rating|helpful_votes|total_votes|vine|verified_purchase|      vote_percent|\n",
            "+--------------+-----------+-------------+-----------+----+-----------------+------------------+\n",
            "|R35PT06NWP7LDP|          5|           30|         32|   N|                N|            0.9375|\n",
            "| RQW4AFOG9MR4Z|          5|           51|         52|   N|                N|0.9807692307692307|\n",
            "|R2SMUEBMGLAJQK|          5|           29|         36|   N|                Y|0.8055555555555556|\n",
            "|R1XVIZZALU5P6J|          5|          148|        150|   N|                Y|0.9866666666666667|\n",
            "|R11UFMG8M2488I|          4|           23|         26|   N|                N|0.8846153846153846|\n",
            "|R2OSHKSPXU68W5|          5|          136|        147|   N|                N|0.9251700680272109|\n",
            "|R3M02FSD3BLUPU|          5|           19|         21|   N|                N|0.9047619047619048|\n",
            "|R1P0LEEJHH09L3|          5|           32|         32|   N|                Y|               1.0|\n",
            "|R1V6UU1EHW3Q12|          5|           57|         62|   N|                Y|0.9193548387096774|\n",
            "|R230W87COFSTCL|          5|           21|         21|   N|                Y|               1.0|\n",
            "|R156HBTMUSEM88|          5|           48|         49|   N|                Y|0.9795918367346939|\n",
            "|R2X1UHSW9KUBES|          5|           22|         22|   N|                Y|               1.0|\n",
            "| RO32P11MHPMI3|          5|           24|         24|   N|                Y|               1.0|\n",
            "|R1Y8ARYNAB7PC0|          5|           19|         20|   N|                N|              0.95|\n",
            "|R1QSB09EOREALQ|          4|           29|         32|   N|                Y|           0.90625|\n",
            "|R1BQ8BDCIV9ONZ|          5|           44|         50|   N|                Y|              0.88|\n",
            "|R18638HIUF6XNR|          3|           22|         23|   N|                N|0.9565217391304348|\n",
            "|  R1EHNRX9BMLK|          5|           19|         20|   N|                Y|              0.95|\n",
            "|R26L79OMEJLULL|          5|           32|         36|   N|                Y|0.8888888888888888|\n",
            "| RQLV8G3M9ZOT2|          5|           22|         23|   N|                N|0.9565217391304348|\n",
            "+--------------+-----------+-------------+-----------+----+-----------------+------------------+\n",
            "only showing top 20 rows\n",
            "\n"
          ]
        }
      ],
      "source": [
        "# Filter the new DataFrame or table created in Step 1 and create a new DataFrame or table to retrieve all the rows where the number of helpful_votes divided by total_votes is equal to or greater than 50%.\n",
        "vote_percent_df = total_votes_df.withColumn('vote_percent', col('helpful_votes')/col('total_votes')).alias('vote_percent').filter(col(\"vote_percent\") >= 0.5)\n",
        "vote_percent_df.show()"
      ]
    },
    {
      "cell_type": "code",
      "execution_count": 38,
      "metadata": {
        "colab": {
          "base_uri": "https://localhost:8080/"
        },
        "id": "UW1ziRNQZbvg",
        "outputId": "86eb9ff5-e223-46df-a1a6-a3e04a365db0"
      },
      "outputs": [
        {
          "name": "stdout",
          "output_type": "stream",
          "text": [
            "+--------------+-----------+-------------+-----------+----+-----------------+------------------+\n",
            "|     review_id|star_rating|helpful_votes|total_votes|vine|verified_purchase|      vote_percent|\n",
            "+--------------+-----------+-------------+-----------+----+-----------------+------------------+\n",
            "| R6U9701C3BGO6|          3|          139|        147|   Y|                N|0.9455782312925171|\n",
            "|R1XK3ALB45D7N4|          5|           33|         34|   Y|                N|0.9705882352941176|\n",
            "|R1IZCSTLX81D6C|          5|           31|         33|   Y|                N|0.9393939393939394|\n",
            "|R2C8NC8EQLH4JF|          3|           45|         48|   Y|                N|            0.9375|\n",
            "|R1JJ1YOJMOML1P|          5|           18|         21|   Y|                N|0.8571428571428571|\n",
            "|R3TKG664L9MTXJ|          4|          164|        175|   Y|                N|0.9371428571428572|\n",
            "|R2E942L5EX73FP|          5|           29|         33|   Y|                N|0.8787878787878788|\n",
            "|R3CGRT9HYB3LI7|          5|           20|         21|   Y|                N|0.9523809523809523|\n",
            "|R3HIFO4D3ZIBZ7|          5|           25|         26|   Y|                N|0.9615384615384616|\n",
            "|R2VUXJT91MXOQJ|          3|           72|         79|   Y|                N|0.9113924050632911|\n",
            "|R1C8PGDXGYR30Z|          4|           29|         30|   Y|                N|0.9666666666666667|\n",
            "| R8MS8X9EHHTPL|          3|           18|         20|   Y|                N|               0.9|\n",
            "|R31GNOM0KSO811|          5|           33|         35|   Y|                N|0.9428571428571428|\n",
            "|R30QE1QK86LPYL|          5|          240|        248|   Y|                N| 0.967741935483871|\n",
            "|R22HZWFVEVORET|          4|           47|         50|   Y|                N|              0.94|\n",
            "|R1FH9B0W7UFLK0|          2|           40|         45|   Y|                N|0.8888888888888888|\n",
            "|R3JA6LR9QD9TZE|          4|           18|         20|   Y|                N|               0.9|\n",
            "|R378OQDA4JN3IG|          4|           42|         44|   Y|                N|0.9545454545454546|\n",
            "|R2U5MIYOYUTTUA|          3|           31|         34|   Y|                N|0.9117647058823529|\n",
            "|R337AR463Y2FPD|          3|           22|         22|   Y|                N|               1.0|\n",
            "+--------------+-----------+-------------+-----------+----+-----------------+------------------+\n",
            "only showing top 20 rows\n",
            "\n"
          ]
        }
      ],
      "source": [
        "#vine == 'Y'.\n",
        "vine_Y_df = vote_percent_df.filter(col(\"vine\") == \"Y\")\n",
        "vine_Y_df.show()"
      ]
    },
    {
      "cell_type": "code",
      "execution_count": 34,
      "metadata": {
        "colab": {
          "base_uri": "https://localhost:8080/"
        },
        "id": "jtFT7gWbZb26",
        "outputId": "940088a2-e6eb-4cd3-e518-077113954803"
      },
      "outputs": [
        {
          "name": "stdout",
          "output_type": "stream",
          "text": [
            "+--------------+-----------+-------------+-----------+----+-----------------+------------------+\n",
            "|     review_id|star_rating|helpful_votes|total_votes|vine|verified_purchase|      vote_percent|\n",
            "+--------------+-----------+-------------+-----------+----+-----------------+------------------+\n",
            "|R35PT06NWP7LDP|          5|           30|         32|   N|                N|            0.9375|\n",
            "| RQW4AFOG9MR4Z|          5|           51|         52|   N|                N|0.9807692307692307|\n",
            "|R2SMUEBMGLAJQK|          5|           29|         36|   N|                Y|0.8055555555555556|\n",
            "|R1XVIZZALU5P6J|          5|          148|        150|   N|                Y|0.9866666666666667|\n",
            "|R11UFMG8M2488I|          4|           23|         26|   N|                N|0.8846153846153846|\n",
            "|R2OSHKSPXU68W5|          5|          136|        147|   N|                N|0.9251700680272109|\n",
            "|R3M02FSD3BLUPU|          5|           19|         21|   N|                N|0.9047619047619048|\n",
            "|R1P0LEEJHH09L3|          5|           32|         32|   N|                Y|               1.0|\n",
            "|R1V6UU1EHW3Q12|          5|           57|         62|   N|                Y|0.9193548387096774|\n",
            "|R230W87COFSTCL|          5|           21|         21|   N|                Y|               1.0|\n",
            "|R156HBTMUSEM88|          5|           48|         49|   N|                Y|0.9795918367346939|\n",
            "|R2X1UHSW9KUBES|          5|           22|         22|   N|                Y|               1.0|\n",
            "| RO32P11MHPMI3|          5|           24|         24|   N|                Y|               1.0|\n",
            "|R1Y8ARYNAB7PC0|          5|           19|         20|   N|                N|              0.95|\n",
            "|R1QSB09EOREALQ|          4|           29|         32|   N|                Y|           0.90625|\n",
            "|R1BQ8BDCIV9ONZ|          5|           44|         50|   N|                Y|              0.88|\n",
            "|R18638HIUF6XNR|          3|           22|         23|   N|                N|0.9565217391304348|\n",
            "|  R1EHNRX9BMLK|          5|           19|         20|   N|                Y|              0.95|\n",
            "|R26L79OMEJLULL|          5|           32|         36|   N|                Y|0.8888888888888888|\n",
            "| RQLV8G3M9ZOT2|          5|           22|         23|   N|                N|0.9565217391304348|\n",
            "+--------------+-----------+-------------+-----------+----+-----------------+------------------+\n",
            "only showing top 20 rows\n",
            "\n"
          ]
        }
      ],
      "source": [
        "# vine == 'N'.\n",
        "vine_N_df = vote_percent_df.filter(col(\"vine\") == \"N\")\n",
        "vine_N_df.show()"
      ]
    },
    {
      "cell_type": "code",
      "execution_count": 11,
      "metadata": {
        "colab": {
          "base_uri": "https://localhost:8080/"
        },
        "id": "oYIVmtEOZb_E",
        "outputId": "5b4c971c-3191-4049-c4fb-aab9cd558c4b"
      },
      "outputs": [
        {
          "data": {
            "text/plain": [
              "46909"
            ]
          },
          "execution_count": 11,
          "metadata": {},
          "output_type": "execute_result"
        }
      ],
      "source": [
        "# Get the total number of reviews\n",
        "total_review_count = total_votes_df.select(\"review_id\").count()\n",
        "total_review_count"
      ]
    },
    {
      "cell_type": "markdown",
      "metadata": {
        "id": "LekeWb9nYQju"
      },
      "source": []
    },
    {
      "cell_type": "code",
      "execution_count": 20,
      "metadata": {
        "colab": {
          "base_uri": "https://localhost:8080/"
        },
        "id": "qL8hDgbufJTU",
        "outputId": "1e0197fc-2dc5-4366-fe6c-1321bd44e577"
      },
      "outputs": [
        {
          "data": {
            "text/plain": [
              "23991"
            ]
          },
          "execution_count": 20,
          "metadata": {},
          "output_type": "execute_result"
        }
      ],
      "source": [
        "# number of 5 star reviews\n",
        "five_star_reviews = total_votes_df.filter(col(\"star_rating\") == 5).count()\n",
        "five_star_reviews"
      ]
    },
    {
      "cell_type": "code",
      "execution_count": 39,
      "metadata": {
        "colab": {
          "base_uri": "https://localhost:8080/"
        },
        "id": "4u-Ap9gjfJYZ",
        "outputId": "08e061f3-bf44-4415-f9b6-b5505cf669de"
      },
      "outputs": [
        {
          "data": {
            "text/plain": [
              "33"
            ]
          },
          "execution_count": 39,
          "metadata": {},
          "output_type": "execute_result"
        }
      ],
      "source": [
        "# number of paid 5 star reviews\n",
        "paid_reviews = vine_Y_df.count()\n",
        "paid_reviews"
      ]
    },
    {
      "cell_type": "code",
      "execution_count": 41,
      "metadata": {
        "colab": {
          "base_uri": "https://localhost:8080/"
        },
        "id": "MXEacj9llV0W",
        "outputId": "a169117a-5c9c-4859-843b-337f03aa6b32"
      },
      "outputs": [
        {
          "data": {
            "text/plain": [
              "15"
            ]
          },
          "execution_count": 41,
          "metadata": {},
          "output_type": "execute_result"
        }
      ],
      "source": [
        "five_star_paid_reviews = vine_Y_df.filter(vine_Y_df.star_rating == 5).count()\n",
        "five_star_paid_reviews"
      ]
    },
    {
      "cell_type": "code",
      "execution_count": 43,
      "metadata": {
        "colab": {
          "base_uri": "https://localhost:8080/"
        },
        "id": "P7v8YhxzfJc4",
        "outputId": "a70d86ee-06e7-417a-f57e-9ec469535782"
      },
      "outputs": [
        {
          "data": {
            "text/plain": [
              "45.45454545454545"
            ]
          },
          "execution_count": 43,
          "metadata": {},
          "output_type": "execute_result"
        }
      ],
      "source": [
        "# percentage of paid 5 start reviews\n",
        "paid_percent = (five_star_paid_reviews/paid_reviews) * 100\n",
        "paid_percent"
      ]
    },
    {
      "cell_type": "code",
      "execution_count": 44,
      "metadata": {
        "colab": {
          "base_uri": "https://localhost:8080/"
        },
        "id": "AJlT_W-afJhD",
        "outputId": "037d9d4d-ed12-4912-efd3-21d25cf672b5"
      },
      "outputs": [
        {
          "data": {
            "text/plain": [
              "23733"
            ]
          },
          "execution_count": 44,
          "metadata": {},
          "output_type": "execute_result"
        }
      ],
      "source": [
        "# number of unpaid 5 star reviews\n",
        "five_star_unpaid_reviews = vine_N_df.filter(vine_N_df.star_rating == 5).count()\n",
        "five_star_unpaid_reviews"
      ]
    },
    {
      "cell_type": "code",
      "execution_count": 45,
      "metadata": {
        "colab": {
          "base_uri": "https://localhost:8080/"
        },
        "id": "wy26jpslmJiV",
        "outputId": "91d59441-2863-4399-8853-225b8b05b943"
      },
      "outputs": [
        {
          "data": {
            "text/plain": [
              "45388"
            ]
          },
          "execution_count": 45,
          "metadata": {},
          "output_type": "execute_result"
        }
      ],
      "source": [
        "unpaid_reviews = vine_N_df.count()\n",
        "unpaid_reviews"
      ]
    },
    {
      "cell_type": "code",
      "execution_count": 46,
      "metadata": {
        "colab": {
          "base_uri": "https://localhost:8080/"
        },
        "id": "tPJe8iImfJlQ",
        "outputId": "01e4e41d-6b7f-451b-a713-127402645c6a"
      },
      "outputs": [
        {
          "data": {
            "text/plain": [
              "52.28915131752886"
            ]
          },
          "execution_count": 46,
          "metadata": {},
          "output_type": "execute_result"
        }
      ],
      "source": [
        "# percentage of unpaid 5 star reviews\n",
        "unpaid_percent = (five_star_unpaid_reviews/unpaid_reviews) * 100\n",
        "unpaid_percent"
      ]
    },
    {
      "cell_type": "code",
      "execution_count": 47,
      "metadata": {
        "colab": {
          "base_uri": "https://localhost:8080/"
        },
        "id": "8U1-Icw6lHtn",
        "outputId": "61ccfcf1-c7be-4b46-f068-0e5f1231e752"
      },
      "outputs": [
        {
          "data": {
            "text/plain": [
              "51.143703766867766"
            ]
          },
          "execution_count": 47,
          "metadata": {},
          "output_type": "execute_result"
        }
      ],
      "source": [
        "total_five_star_percent = (five_star_reviews/total_review_count) * 100\n",
        "total_five_star_percent"
      ]
    },
    {
      "cell_type": "code",
      "execution_count": null,
      "metadata": {
        "id": "3iGsp0j1lH6q"
      },
      "outputs": [],
      "source": []
    },
    {
      "cell_type": "code",
      "execution_count": null,
      "metadata": {
        "id": "KrpFsFTclIDQ"
      },
      "outputs": [],
      "source": []
    }
  ],
  "metadata": {
    "colab": {
      "name": "Vine_Review_Analysis.ipynb",
      "provenance": []
    },
    "kernelspec": {
      "display_name": "Python 3",
      "name": "python3"
    },
    "language_info": {
      "name": "python"
    }
  },
  "nbformat": 4,
  "nbformat_minor": 0
}
